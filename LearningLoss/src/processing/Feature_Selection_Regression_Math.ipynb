{
 "cells": [
  {
   "cell_type": "markdown",
   "id": "be5b94e2",
   "metadata": {},
   "source": [
    "This notebook is comparing regression coefficients for L1, L2, and elasticnet."
   ]
  },
  {
   "cell_type": "code",
   "execution_count": 1,
   "id": "43ecac11",
   "metadata": {},
   "outputs": [],
   "source": [
    "import pandas as pd\n",
    "import numpy as np\n",
    "import seaborn as sns\n",
    "import matplotlib.pyplot as plt\n",
    "# import warnings \n",
    "# warnings.filterwarnings(\"ignore\")"
   ]
  },
  {
   "cell_type": "code",
   "execution_count": 2,
   "id": "8f337a5e",
   "metadata": {},
   "outputs": [],
   "source": [
    "from sklearn.preprocessing import StandardScaler\n",
    "from sklearn.model_selection import train_test_split\n",
    "from sklearn.model_selection import GridSearchCV\n",
    "from sklearn.pipeline import Pipeline\n",
    "from sklearn.metrics import confusion_matrix\n",
    "from sklearn.metrics import accuracy_score, precision_score, recall_score, f1_score, matthews_corrcoef"
   ]
  },
  {
   "cell_type": "markdown",
   "id": "48bee87c",
   "metadata": {},
   "source": [
    "**Loading Data**\n",
    "\n",
    "Cleaned and integrated from [Data_Integration.ipynb](Data_Integration.ipynb)"
   ]
  },
  {
   "cell_type": "code",
   "execution_count": 3,
   "id": "139f5f58",
   "metadata": {},
   "outputs": [
    {
     "name": "stdout",
     "output_type": "stream",
     "text": [
      "(955, 90)\n"
     ]
    }
   ],
   "source": [
    "df = pd.read_csv('DATA_Texas_District_v2.csv', sep=',', header=0)\n",
    "print(df.shape)"
   ]
  },
  {
   "cell_type": "markdown",
   "id": "b13b966c",
   "metadata": {},
   "source": [
    "**Get dummies for categorical feature `Locale`**"
   ]
  },
  {
   "cell_type": "code",
   "execution_count": 4,
   "id": "1e486664",
   "metadata": {},
   "outputs": [
    {
     "name": "stdout",
     "output_type": "stream",
     "text": [
      "(955, 101)\n"
     ]
    }
   ],
   "source": [
    "df = pd.get_dummies(df, columns=['Locale'], prefix='Locale')\n",
    "print(df.shape)"
   ]
  },
  {
   "cell_type": "markdown",
   "id": "9e66bdd3",
   "metadata": {},
   "source": [
    "**Split data**"
   ]
  },
  {
   "cell_type": "code",
   "execution_count": 5,
   "id": "e76202b6",
   "metadata": {
    "scrolled": true
   },
   "outputs": [
    {
     "name": "stdout",
     "output_type": "stream",
     "text": [
      "(955, 90)\n"
     ]
    }
   ],
   "source": [
    "labels = ['Label_Math', 'Label_Reading', 'Label_All']\n",
    "\n",
    "cols_drop = ['% Tested Reading G3 Diff',\n",
    "            '% Tested Reading G4 Diff',\n",
    "            '% Tested Reading G5 Diff',\n",
    "            '% Tested Reading G6 Diff',\n",
    "            '% Tested Reading G7 Diff',\n",
    "            '% Tested Reading G8 Diff',\n",
    "            'District #', 'County #']\n",
    "\n",
    "y = df['Label_Math'].values\n",
    "X = df.drop(columns=labels + cols_drop).values\n",
    "columns = df.drop(columns=labels + cols_drop).columns\n",
    "\n",
    "X_train, X_test, y_train, y_test = train_test_split(X, y, test_size=0.2, stratify=y,\n",
    "                                                    random_state=123, shuffle=True)\n",
    "print(X.shape)"
   ]
  },
  {
   "cell_type": "markdown",
   "id": "3cde5d24",
   "metadata": {},
   "source": [
    "**Normalization**"
   ]
  },
  {
   "cell_type": "code",
   "execution_count": 6,
   "id": "851ae302",
   "metadata": {},
   "outputs": [],
   "source": [
    "scaler = StandardScaler()\n",
    "\n",
    "scaler.fit(X_train)\n",
    "X_train = scaler.transform(X_train)\n",
    "X_test = scaler.transform(X_test)"
   ]
  },
  {
   "cell_type": "code",
   "execution_count": 7,
   "id": "75410e1f",
   "metadata": {},
   "outputs": [],
   "source": [
    "random_state=123\n",
    "results = pd.DataFrame()"
   ]
  },
  {
   "cell_type": "markdown",
   "id": "ca3d1797",
   "metadata": {},
   "source": [
    "### Logistic Regression - Lasso ###"
   ]
  },
  {
   "cell_type": "code",
   "execution_count": 8,
   "id": "b2a5d6da",
   "metadata": {
    "scrolled": true
   },
   "outputs": [
    {
     "name": "stdout",
     "output_type": "stream",
     "text": [
      "Train Accuracy: 0.65\n",
      "Test Accuracy: 0.63\n"
     ]
    }
   ],
   "source": [
    "from sklearn.linear_model import LogisticRegression\n",
    "\n",
    "estimator = LogisticRegression(penalty='l1', solver='liblinear', C=0.1, multi_class='ovr', random_state=random_state)\n",
    "estimator.fit(X_train, y_train)\n",
    "\n",
    "print('Train Accuracy: {:0.2f}'.format(estimator.score(X_train, y_train)))\n",
    "print('Test Accuracy: {:0.2f}'.format(estimator.score(X_test, y_test)))\n",
    "\n",
    "\n",
    "classes = ['Loss', 'Expected', 'Gain']\n",
    "for coef, cl in zip(estimator.coef_, classes):\n",
    "    temp = pd.DataFrame({'feature': columns,\n",
    "                         'model': 'Logistic Regression - L1',\n",
    "                         'coef': coef, \n",
    "                         'class': cl})\n",
    "    results = pd.concat([results, temp], ignore_index=True)"
   ]
  },
  {
   "cell_type": "markdown",
   "id": "b41dd7ac",
   "metadata": {},
   "source": [
    "### Logistic Regression - Ridge ###"
   ]
  },
  {
   "cell_type": "code",
   "execution_count": 9,
   "id": "fd4b6afb",
   "metadata": {
    "scrolled": true
   },
   "outputs": [
    {
     "name": "stdout",
     "output_type": "stream",
     "text": [
      "Train Accuracy: 0.68\n",
      "Test Accuracy: 0.61\n"
     ]
    }
   ],
   "source": [
    "from sklearn.linear_model import LogisticRegression\n",
    "\n",
    "estimator = LogisticRegression(penalty='l2', solver='liblinear', multi_class='ovr', C=0.1, random_state=random_state)\n",
    "estimator.fit(X_train, y_train)\n",
    "\n",
    "print('Train Accuracy: {:0.2f}'.format(estimator.score(X_train, y_train)))\n",
    "print('Test Accuracy: {:0.2f}'.format(estimator.score(X_test, y_test)))\n",
    "\n",
    "\n",
    "classes = ['Loss', 'Expected', 'Gain']\n",
    "for coef, cl in zip(estimator.coef_, classes):\n",
    "    temp = pd.DataFrame({'feature': columns,\n",
    "                         'model': 'Logistic Regression - L2',\n",
    "                         'coef': coef, \n",
    "                         'class': cl})\n",
    "    results = pd.concat([results, temp], ignore_index=True)"
   ]
  },
  {
   "cell_type": "markdown",
   "id": "3de3848f",
   "metadata": {},
   "source": [
    "### Logistic Regression - ElasticNet ###"
   ]
  },
  {
   "cell_type": "code",
   "execution_count": 10,
   "id": "d148787c",
   "metadata": {},
   "outputs": [
    {
     "name": "stdout",
     "output_type": "stream",
     "text": [
      "Train Accuracy: 0.67\n",
      "Test Accuracy: 0.64\n"
     ]
    }
   ],
   "source": [
    "from sklearn.linear_model import LogisticRegression\n",
    "\n",
    "estimator = LogisticRegression(penalty='elasticnet', solver='saga', multi_class='ovr', C=0.1, random_state=random_state,\n",
    "                              l1_ratio=.5, max_iter=10000)\n",
    "estimator.fit(X_train, y_train)\n",
    "\n",
    "print('Train Accuracy: {:0.2f}'.format(estimator.score(X_train, y_train)))\n",
    "print('Test Accuracy: {:0.2f}'.format(estimator.score(X_test, y_test)))\n",
    "\n",
    "\n",
    "classes = ['Loss', 'Expected', 'Gain']\n",
    "for coef, cl in zip(estimator.coef_, classes):\n",
    "    temp = pd.DataFrame({'feature': columns,\n",
    "                         'model': 'Logistic Regression - elasticnet',\n",
    "                         'coef': coef, \n",
    "                         'class': cl})\n",
    "    results = pd.concat([results, temp], ignore_index=True)"
   ]
  },
  {
   "cell_type": "code",
   "execution_count": 11,
   "id": "7edde3b1",
   "metadata": {},
   "outputs": [],
   "source": [
    "results.to_csv('Feature_Selection_Regression_Math.csv', index=False)"
   ]
  }
 ],
 "metadata": {
  "kernelspec": {
   "display_name": "Python 3 (ipykernel)",
   "language": "python",
   "name": "python3"
  },
  "language_info": {
   "codemirror_mode": {
    "name": "ipython",
    "version": 3
   },
   "file_extension": ".py",
   "mimetype": "text/x-python",
   "name": "python",
   "nbconvert_exporter": "python",
   "pygments_lexer": "ipython3",
   "version": "3.10.9"
  }
 },
 "nbformat": 4,
 "nbformat_minor": 5
}
